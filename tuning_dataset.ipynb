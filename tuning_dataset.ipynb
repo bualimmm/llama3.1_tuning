{
 "nbformat": 4,
 "nbformat_minor": 0,
 "metadata": {
  "colab": {
   "provenance": []
  },
  "kernelspec": {
   "name": "python3",
   "display_name": "Python 3"
  },
  "language_info": {
   "name": "python"
  },
  "widgets": {
   "application/vnd.jupyter.widget-state+json": {
    "add8e6d64003451ca91c466d2907c905": {
     "model_module": "@jupyter-widgets/controls",
     "model_name": "HBoxModel",
     "model_module_version": "1.5.0",
     "state": {
      "_dom_classes": [],
      "_model_module": "@jupyter-widgets/controls",
      "_model_module_version": "1.5.0",
      "_model_name": "HBoxModel",
      "_view_count": null,
      "_view_module": "@jupyter-widgets/controls",
      "_view_module_version": "1.5.0",
      "_view_name": "HBoxView",
      "box_style": "",
      "children": [
       "IPY_MODEL_1957a0a9a4bd4c718f4b07034548396c",
       "IPY_MODEL_7511209e9a3547548694dbc206ed57ae",
       "IPY_MODEL_c5d9d520bb954fcb8068e64ae01c5aef"
      ],
      "layout": "IPY_MODEL_167d4616e4274eb5baee8675bc33390b"
     }
    },
    "1957a0a9a4bd4c718f4b07034548396c": {
     "model_module": "@jupyter-widgets/controls",
     "model_name": "HTMLModel",
     "model_module_version": "1.5.0",
     "state": {
      "_dom_classes": [],
      "_model_module": "@jupyter-widgets/controls",
      "_model_module_version": "1.5.0",
      "_model_name": "HTMLModel",
      "_view_count": null,
      "_view_module": "@jupyter-widgets/controls",
      "_view_module_version": "1.5.0",
      "_view_name": "HTMLView",
      "description": "",
      "description_tooltip": null,
      "layout": "IPY_MODEL_f8cf547353c94a3282fdc1cc8b45d193",
      "placeholder": "​",
      "style": "IPY_MODEL_df90a1e3f84f49c6a6a1d21bb9e5d28c",
      "value": "Loading dataset shards: 100%"
     }
    },
    "7511209e9a3547548694dbc206ed57ae": {
     "model_module": "@jupyter-widgets/controls",
     "model_name": "FloatProgressModel",
     "model_module_version": "1.5.0",
     "state": {
      "_dom_classes": [],
      "_model_module": "@jupyter-widgets/controls",
      "_model_module_version": "1.5.0",
      "_model_name": "FloatProgressModel",
      "_view_count": null,
      "_view_module": "@jupyter-widgets/controls",
      "_view_module_version": "1.5.0",
      "_view_name": "ProgressView",
      "bar_style": "success",
      "description": "",
      "description_tooltip": null,
      "layout": "IPY_MODEL_b5aa0020dfcb416689a1dd3a9e8097c3",
      "max": 34,
      "min": 0,
      "orientation": "horizontal",
      "style": "IPY_MODEL_979be4433b764240a164e551722e421d",
      "value": 34
     }
    },
    "c5d9d520bb954fcb8068e64ae01c5aef": {
     "model_module": "@jupyter-widgets/controls",
     "model_name": "HTMLModel",
     "model_module_version": "1.5.0",
     "state": {
      "_dom_classes": [],
      "_model_module": "@jupyter-widgets/controls",
      "_model_module_version": "1.5.0",
      "_model_name": "HTMLModel",
      "_view_count": null,
      "_view_module": "@jupyter-widgets/controls",
      "_view_module_version": "1.5.0",
      "_view_name": "HTMLView",
      "description": "",
      "description_tooltip": null,
      "layout": "IPY_MODEL_ec1e0b21cf5b4babbd71e34466f88568",
      "placeholder": "​",
      "style": "IPY_MODEL_542f7664aff649c8bdffbedebbcdb763",
      "value": " 34/34 [01:04&lt;00:00,  1.15s/it]"
     }
    },
    "167d4616e4274eb5baee8675bc33390b": {
     "model_module": "@jupyter-widgets/base",
     "model_name": "LayoutModel",
     "model_module_version": "1.2.0",
     "state": {
      "_model_module": "@jupyter-widgets/base",
      "_model_module_version": "1.2.0",
      "_model_name": "LayoutModel",
      "_view_count": null,
      "_view_module": "@jupyter-widgets/base",
      "_view_module_version": "1.2.0",
      "_view_name": "LayoutView",
      "align_content": null,
      "align_items": null,
      "align_self": null,
      "border": null,
      "bottom": null,
      "display": null,
      "flex": null,
      "flex_flow": null,
      "grid_area": null,
      "grid_auto_columns": null,
      "grid_auto_flow": null,
      "grid_auto_rows": null,
      "grid_column": null,
      "grid_gap": null,
      "grid_row": null,
      "grid_template_areas": null,
      "grid_template_columns": null,
      "grid_template_rows": null,
      "height": null,
      "justify_content": null,
      "justify_items": null,
      "left": null,
      "margin": null,
      "max_height": null,
      "max_width": null,
      "min_height": null,
      "min_width": null,
      "object_fit": null,
      "object_position": null,
      "order": null,
      "overflow": null,
      "overflow_x": null,
      "overflow_y": null,
      "padding": null,
      "right": null,
      "top": null,
      "visibility": null,
      "width": null
     }
    },
    "f8cf547353c94a3282fdc1cc8b45d193": {
     "model_module": "@jupyter-widgets/base",
     "model_name": "LayoutModel",
     "model_module_version": "1.2.0",
     "state": {
      "_model_module": "@jupyter-widgets/base",
      "_model_module_version": "1.2.0",
      "_model_name": "LayoutModel",
      "_view_count": null,
      "_view_module": "@jupyter-widgets/base",
      "_view_module_version": "1.2.0",
      "_view_name": "LayoutView",
      "align_content": null,
      "align_items": null,
      "align_self": null,
      "border": null,
      "bottom": null,
      "display": null,
      "flex": null,
      "flex_flow": null,
      "grid_area": null,
      "grid_auto_columns": null,
      "grid_auto_flow": null,
      "grid_auto_rows": null,
      "grid_column": null,
      "grid_gap": null,
      "grid_row": null,
      "grid_template_areas": null,
      "grid_template_columns": null,
      "grid_template_rows": null,
      "height": null,
      "justify_content": null,
      "justify_items": null,
      "left": null,
      "margin": null,
      "max_height": null,
      "max_width": null,
      "min_height": null,
      "min_width": null,
      "object_fit": null,
      "object_position": null,
      "order": null,
      "overflow": null,
      "overflow_x": null,
      "overflow_y": null,
      "padding": null,
      "right": null,
      "top": null,
      "visibility": null,
      "width": null
     }
    },
    "df90a1e3f84f49c6a6a1d21bb9e5d28c": {
     "model_module": "@jupyter-widgets/controls",
     "model_name": "DescriptionStyleModel",
     "model_module_version": "1.5.0",
     "state": {
      "_model_module": "@jupyter-widgets/controls",
      "_model_module_version": "1.5.0",
      "_model_name": "DescriptionStyleModel",
      "_view_count": null,
      "_view_module": "@jupyter-widgets/base",
      "_view_module_version": "1.2.0",
      "_view_name": "StyleView",
      "description_width": ""
     }
    },
    "b5aa0020dfcb416689a1dd3a9e8097c3": {
     "model_module": "@jupyter-widgets/base",
     "model_name": "LayoutModel",
     "model_module_version": "1.2.0",
     "state": {
      "_model_module": "@jupyter-widgets/base",
      "_model_module_version": "1.2.0",
      "_model_name": "LayoutModel",
      "_view_count": null,
      "_view_module": "@jupyter-widgets/base",
      "_view_module_version": "1.2.0",
      "_view_name": "LayoutView",
      "align_content": null,
      "align_items": null,
      "align_self": null,
      "border": null,
      "bottom": null,
      "display": null,
      "flex": null,
      "flex_flow": null,
      "grid_area": null,
      "grid_auto_columns": null,
      "grid_auto_flow": null,
      "grid_auto_rows": null,
      "grid_column": null,
      "grid_gap": null,
      "grid_row": null,
      "grid_template_areas": null,
      "grid_template_columns": null,
      "grid_template_rows": null,
      "height": null,
      "justify_content": null,
      "justify_items": null,
      "left": null,
      "margin": null,
      "max_height": null,
      "max_width": null,
      "min_height": null,
      "min_width": null,
      "object_fit": null,
      "object_position": null,
      "order": null,
      "overflow": null,
      "overflow_x": null,
      "overflow_y": null,
      "padding": null,
      "right": null,
      "top": null,
      "visibility": null,
      "width": null
     }
    },
    "979be4433b764240a164e551722e421d": {
     "model_module": "@jupyter-widgets/controls",
     "model_name": "ProgressStyleModel",
     "model_module_version": "1.5.0",
     "state": {
      "_model_module": "@jupyter-widgets/controls",
      "_model_module_version": "1.5.0",
      "_model_name": "ProgressStyleModel",
      "_view_count": null,
      "_view_module": "@jupyter-widgets/base",
      "_view_module_version": "1.2.0",
      "_view_name": "StyleView",
      "bar_color": null,
      "description_width": ""
     }
    },
    "ec1e0b21cf5b4babbd71e34466f88568": {
     "model_module": "@jupyter-widgets/base",
     "model_name": "LayoutModel",
     "model_module_version": "1.2.0",
     "state": {
      "_model_module": "@jupyter-widgets/base",
      "_model_module_version": "1.2.0",
      "_model_name": "LayoutModel",
      "_view_count": null,
      "_view_module": "@jupyter-widgets/base",
      "_view_module_version": "1.2.0",
      "_view_name": "LayoutView",
      "align_content": null,
      "align_items": null,
      "align_self": null,
      "border": null,
      "bottom": null,
      "display": null,
      "flex": null,
      "flex_flow": null,
      "grid_area": null,
      "grid_auto_columns": null,
      "grid_auto_flow": null,
      "grid_auto_rows": null,
      "grid_column": null,
      "grid_gap": null,
      "grid_row": null,
      "grid_template_areas": null,
      "grid_template_columns": null,
      "grid_template_rows": null,
      "height": null,
      "justify_content": null,
      "justify_items": null,
      "left": null,
      "margin": null,
      "max_height": null,
      "max_width": null,
      "min_height": null,
      "min_width": null,
      "object_fit": null,
      "object_position": null,
      "order": null,
      "overflow": null,
      "overflow_x": null,
      "overflow_y": null,
      "padding": null,
      "right": null,
      "top": null,
      "visibility": null,
      "width": null
     }
    },
    "542f7664aff649c8bdffbedebbcdb763": {
     "model_module": "@jupyter-widgets/controls",
     "model_name": "DescriptionStyleModel",
     "model_module_version": "1.5.0",
     "state": {
      "_model_module": "@jupyter-widgets/controls",
      "_model_module_version": "1.5.0",
      "_model_name": "DescriptionStyleModel",
      "_view_count": null,
      "_view_module": "@jupyter-widgets/base",
      "_view_module_version": "1.2.0",
      "_view_name": "StyleView",
      "description_width": ""
     }
    },
    "8544cc4c33ed4db2b16e2a8be1a4d553": {
     "model_module": "@jupyter-widgets/controls",
     "model_name": "HBoxModel",
     "model_module_version": "1.5.0",
     "state": {
      "_dom_classes": [],
      "_model_module": "@jupyter-widgets/controls",
      "_model_module_version": "1.5.0",
      "_model_name": "HBoxModel",
      "_view_count": null,
      "_view_module": "@jupyter-widgets/controls",
      "_view_module_version": "1.5.0",
      "_view_name": "HBoxView",
      "box_style": "",
      "children": [
       "IPY_MODEL_303f3364831a4181bf1aef92cecd0e4c",
       "IPY_MODEL_66d719c7256b476ca5b9e8ad9e55b831",
       "IPY_MODEL_ad6a6945142c47158cfd683071a4ae8d"
      ],
      "layout": "IPY_MODEL_d3681c4972244c6e99e977c09046c8f1"
     }
    },
    "303f3364831a4181bf1aef92cecd0e4c": {
     "model_module": "@jupyter-widgets/controls",
     "model_name": "HTMLModel",
     "model_module_version": "1.5.0",
     "state": {
      "_dom_classes": [],
      "_model_module": "@jupyter-widgets/controls",
      "_model_module_version": "1.5.0",
      "_model_name": "HTMLModel",
      "_view_count": null,
      "_view_module": "@jupyter-widgets/controls",
      "_view_module_version": "1.5.0",
      "_view_name": "HTMLView",
      "description": "",
      "description_tooltip": null,
      "layout": "IPY_MODEL_509816e3fa5647fc91c25a4564090070",
      "placeholder": "​",
      "style": "IPY_MODEL_551e5d71834a4d38b0da16dfc1a5178d",
      "value": "Map: 100%"
     }
    },
    "66d719c7256b476ca5b9e8ad9e55b831": {
     "model_module": "@jupyter-widgets/controls",
     "model_name": "FloatProgressModel",
     "model_module_version": "1.5.0",
     "state": {
      "_dom_classes": [],
      "_model_module": "@jupyter-widgets/controls",
      "_model_module_version": "1.5.0",
      "_model_name": "FloatProgressModel",
      "_view_count": null,
      "_view_module": "@jupyter-widgets/controls",
      "_view_module_version": "1.5.0",
      "_view_name": "ProgressView",
      "bar_style": "success",
      "description": "",
      "description_tooltip": null,
      "layout": "IPY_MODEL_bbafb83ecadd446cb30e31be130a2ced",
      "max": 5222964,
      "min": 0,
      "orientation": "horizontal",
      "style": "IPY_MODEL_b0fe1154f9d340a98072ff840bb9fb33",
      "value": 5222964
     }
    },
    "ad6a6945142c47158cfd683071a4ae8d": {
     "model_module": "@jupyter-widgets/controls",
     "model_name": "HTMLModel",
     "model_module_version": "1.5.0",
     "state": {
      "_dom_classes": [],
      "_model_module": "@jupyter-widgets/controls",
      "_model_module_version": "1.5.0",
      "_model_name": "HTMLModel",
      "_view_count": null,
      "_view_module": "@jupyter-widgets/controls",
      "_view_module_version": "1.5.0",
      "_view_name": "HTMLView",
      "description": "",
      "description_tooltip": null,
      "layout": "IPY_MODEL_05b28a093e4b4bfab2118d966ecd9c5a",
      "placeholder": "​",
      "style": "IPY_MODEL_338752b8e1b7467397fa17b52bf9c992",
      "value": " 5222964/5222964 [05:56&lt;00:00, 28598.34 examples/s]"
     }
    },
    "d3681c4972244c6e99e977c09046c8f1": {
     "model_module": "@jupyter-widgets/base",
     "model_name": "LayoutModel",
     "model_module_version": "1.2.0",
     "state": {
      "_model_module": "@jupyter-widgets/base",
      "_model_module_version": "1.2.0",
      "_model_name": "LayoutModel",
      "_view_count": null,
      "_view_module": "@jupyter-widgets/base",
      "_view_module_version": "1.2.0",
      "_view_name": "LayoutView",
      "align_content": null,
      "align_items": null,
      "align_self": null,
      "border": null,
      "bottom": null,
      "display": null,
      "flex": null,
      "flex_flow": null,
      "grid_area": null,
      "grid_auto_columns": null,
      "grid_auto_flow": null,
      "grid_auto_rows": null,
      "grid_column": null,
      "grid_gap": null,
      "grid_row": null,
      "grid_template_areas": null,
      "grid_template_columns": null,
      "grid_template_rows": null,
      "height": null,
      "justify_content": null,
      "justify_items": null,
      "left": null,
      "margin": null,
      "max_height": null,
      "max_width": null,
      "min_height": null,
      "min_width": null,
      "object_fit": null,
      "object_position": null,
      "order": null,
      "overflow": null,
      "overflow_x": null,
      "overflow_y": null,
      "padding": null,
      "right": null,
      "top": null,
      "visibility": null,
      "width": null
     }
    },
    "509816e3fa5647fc91c25a4564090070": {
     "model_module": "@jupyter-widgets/base",
     "model_name": "LayoutModel",
     "model_module_version": "1.2.0",
     "state": {
      "_model_module": "@jupyter-widgets/base",
      "_model_module_version": "1.2.0",
      "_model_name": "LayoutModel",
      "_view_count": null,
      "_view_module": "@jupyter-widgets/base",
      "_view_module_version": "1.2.0",
      "_view_name": "LayoutView",
      "align_content": null,
      "align_items": null,
      "align_self": null,
      "border": null,
      "bottom": null,
      "display": null,
      "flex": null,
      "flex_flow": null,
      "grid_area": null,
      "grid_auto_columns": null,
      "grid_auto_flow": null,
      "grid_auto_rows": null,
      "grid_column": null,
      "grid_gap": null,
      "grid_row": null,
      "grid_template_areas": null,
      "grid_template_columns": null,
      "grid_template_rows": null,
      "height": null,
      "justify_content": null,
      "justify_items": null,
      "left": null,
      "margin": null,
      "max_height": null,
      "max_width": null,
      "min_height": null,
      "min_width": null,
      "object_fit": null,
      "object_position": null,
      "order": null,
      "overflow": null,
      "overflow_x": null,
      "overflow_y": null,
      "padding": null,
      "right": null,
      "top": null,
      "visibility": null,
      "width": null
     }
    },
    "551e5d71834a4d38b0da16dfc1a5178d": {
     "model_module": "@jupyter-widgets/controls",
     "model_name": "DescriptionStyleModel",
     "model_module_version": "1.5.0",
     "state": {
      "_model_module": "@jupyter-widgets/controls",
      "_model_module_version": "1.5.0",
      "_model_name": "DescriptionStyleModel",
      "_view_count": null,
      "_view_module": "@jupyter-widgets/base",
      "_view_module_version": "1.2.0",
      "_view_name": "StyleView",
      "description_width": ""
     }
    },
    "bbafb83ecadd446cb30e31be130a2ced": {
     "model_module": "@jupyter-widgets/base",
     "model_name": "LayoutModel",
     "model_module_version": "1.2.0",
     "state": {
      "_model_module": "@jupyter-widgets/base",
      "_model_module_version": "1.2.0",
      "_model_name": "LayoutModel",
      "_view_count": null,
      "_view_module": "@jupyter-widgets/base",
      "_view_module_version": "1.2.0",
      "_view_name": "LayoutView",
      "align_content": null,
      "align_items": null,
      "align_self": null,
      "border": null,
      "bottom": null,
      "display": null,
      "flex": null,
      "flex_flow": null,
      "grid_area": null,
      "grid_auto_columns": null,
      "grid_auto_flow": null,
      "grid_auto_rows": null,
      "grid_column": null,
      "grid_gap": null,
      "grid_row": null,
      "grid_template_areas": null,
      "grid_template_columns": null,
      "grid_template_rows": null,
      "height": null,
      "justify_content": null,
      "justify_items": null,
      "left": null,
      "margin": null,
      "max_height": null,
      "max_width": null,
      "min_height": null,
      "min_width": null,
      "object_fit": null,
      "object_position": null,
      "order": null,
      "overflow": null,
      "overflow_x": null,
      "overflow_y": null,
      "padding": null,
      "right": null,
      "top": null,
      "visibility": null,
      "width": null
     }
    },
    "b0fe1154f9d340a98072ff840bb9fb33": {
     "model_module": "@jupyter-widgets/controls",
     "model_name": "ProgressStyleModel",
     "model_module_version": "1.5.0",
     "state": {
      "_model_module": "@jupyter-widgets/controls",
      "_model_module_version": "1.5.0",
      "_model_name": "ProgressStyleModel",
      "_view_count": null,
      "_view_module": "@jupyter-widgets/base",
      "_view_module_version": "1.2.0",
      "_view_name": "StyleView",
      "bar_color": null,
      "description_width": ""
     }
    },
    "05b28a093e4b4bfab2118d966ecd9c5a": {
     "model_module": "@jupyter-widgets/base",
     "model_name": "LayoutModel",
     "model_module_version": "1.2.0",
     "state": {
      "_model_module": "@jupyter-widgets/base",
      "_model_module_version": "1.2.0",
      "_model_name": "LayoutModel",
      "_view_count": null,
      "_view_module": "@jupyter-widgets/base",
      "_view_module_version": "1.2.0",
      "_view_name": "LayoutView",
      "align_content": null,
      "align_items": null,
      "align_self": null,
      "border": null,
      "bottom": null,
      "display": null,
      "flex": null,
      "flex_flow": null,
      "grid_area": null,
      "grid_auto_columns": null,
      "grid_auto_flow": null,
      "grid_auto_rows": null,
      "grid_column": null,
      "grid_gap": null,
      "grid_row": null,
      "grid_template_areas": null,
      "grid_template_columns": null,
      "grid_template_rows": null,
      "height": null,
      "justify_content": null,
      "justify_items": null,
      "left": null,
      "margin": null,
      "max_height": null,
      "max_width": null,
      "min_height": null,
      "min_width": null,
      "object_fit": null,
      "object_position": null,
      "order": null,
      "overflow": null,
      "overflow_x": null,
      "overflow_y": null,
      "padding": null,
      "right": null,
      "top": null,
      "visibility": null,
      "width": null
     }
    },
    "338752b8e1b7467397fa17b52bf9c992": {
     "model_module": "@jupyter-widgets/controls",
     "model_name": "DescriptionStyleModel",
     "model_module_version": "1.5.0",
     "state": {
      "_model_module": "@jupyter-widgets/controls",
      "_model_module_version": "1.5.0",
      "_model_name": "DescriptionStyleModel",
      "_view_count": null,
      "_view_module": "@jupyter-widgets/base",
      "_view_module_version": "1.2.0",
      "_view_name": "StyleView",
      "description_width": ""
     }
    }
   }
  }
 },
 "cells": [
  {
   "cell_type": "code",
   "execution_count": 1,
   "metadata": {
    "id": "1lQHmmHYITbY"
   },
   "outputs": [],
   "source": [
    "from datasets import load_dataset"
   ]
  },
  {
   "cell_type": "code",
   "source": [
    "# ! pip install -U rarfile\n",
    "# ! pip install patool"
   ],
   "metadata": {
    "colab": {
     "base_uri": "https://localhost:8080/"
    },
    "id": "b-AenobaMfoo",
    "outputId": "1593d256-2e23-4bdc-b77a-93222bf5a32b"
   },
   "execution_count": 6,
   "outputs": [
    {
     "output_type": "stream",
     "name": "stdout",
     "text": [
      "Collecting rarfile\n",
      "  Downloading rarfile-4.2-py3-none-any.whl.metadata (4.4 kB)\n",
      "Downloading rarfile-4.2-py3-none-any.whl (29 kB)\n",
      "Installing collected packages: rarfile\n",
      "Successfully installed rarfile-4.2\n",
      "Collecting patool\n",
      "  Downloading patool-2.3.0-py2.py3-none-any.whl.metadata (4.0 kB)\n",
      "Downloading patool-2.3.0-py2.py3-none-any.whl (96 kB)\n",
      "\u001B[2K   \u001B[90m━━━━━━━━━━━━━━━━━━━━━━━━━━━━━━━━━━━━━━━━\u001B[0m \u001B[32m96.6/96.6 kB\u001B[0m \u001B[31m1.8 MB/s\u001B[0m eta \u001B[36m0:00:00\u001B[0m\n",
      "\u001B[?25hInstalling collected packages: patool\n",
      "Successfully installed patool-2.3.0\n"
     ]
    }
   ]
  },
  {
   "cell_type": "code",
   "source": [
    "wikipedia_prompt =  \"\"\"مقالة صحفية\n",
    "### العنوان: {}\n",
    "\n",
    "### المقالة:\n",
    "{}\"\"\"\n",
    "\n",
    "EOS_TOKEN = tokenizer.eos_token # Must add EOS_TOKEN\n",
    "def formatting_prompts_func(examples):\n",
    "    titles = examples['head_line']\n",
    "    texts  = examples[\"text\"]\n",
    "    outputs = []\n",
    "    for title, text in zip(titles, texts):\n",
    "        # Must add EOS_TOKEN, otherwise your generation will go on forever!\n",
    "        text = wikipedia_prompt.format(title, text) + EOS_TOKEN\n",
    "        outputs.append(text)\n",
    "    return { \"text\" : outputs, }\n",
    "pass"
   ],
   "metadata": {
    "id": "mJxSmI9sJhug"
   },
   "execution_count": 4,
   "outputs": []
  },
  {
   "cell_type": "code",
   "source": [
    "dataset = load_dataset('MohamedRashad/arabic-billion-words')\n",
    "dataset = dataset.map(formatting_prompts_func, batched = True,)"
   ],
   "metadata": {
    "colab": {
     "base_uri": "https://localhost:8080/",
     "height": 49,
     "referenced_widgets": [
      "8544cc4c33ed4db2b16e2a8be1a4d553",
      "303f3364831a4181bf1aef92cecd0e4c",
      "66d719c7256b476ca5b9e8ad9e55b831",
      "ad6a6945142c47158cfd683071a4ae8d",
      "d3681c4972244c6e99e977c09046c8f1",
      "509816e3fa5647fc91c25a4564090070",
      "551e5d71834a4d38b0da16dfc1a5178d",
      "bbafb83ecadd446cb30e31be130a2ced",
      "b0fe1154f9d340a98072ff840bb9fb33",
      "05b28a093e4b4bfab2118d966ecd9c5a",
      "338752b8e1b7467397fa17b52bf9c992"
     ]
    },
    "id": "-PbkUyF2PzAG",
    "outputId": "4b5bf402-db64-4e59-8a71-d243736ab6ab"
   },
   "execution_count": 6,
   "outputs": [
    {
     "output_type": "display_data",
     "data": {
      "text/plain": [
       "Map:   0%|          | 0/5222964 [00:00<?, ? examples/s]"
      ],
      "application/vnd.jupyter.widget-view+json": {
       "version_major": 2,
       "version_minor": 0,
       "model_id": "8544cc4c33ed4db2b16e2a8be1a4d553"
      }
     },
     "metadata": {}
    }
   ]
  },
  {
   "cell_type": "code",
   "source": [
    "# Print a sample from the dataset\n",
    "sample_text = dataset['train'][0]['text']\n",
    "print(sample_text)"
   ],
   "metadata": {
    "colab": {
     "base_uri": "https://localhost:8080/"
    },
    "id": "GC1bM-1ogpIQ",
    "outputId": "805d6eee-e381-436e-d49f-90ccb9c0e467"
   },
   "execution_count": 9,
   "outputs": [
    {
     "output_type": "stream",
     "name": "stdout",
     "text": [
      "مقالة صحفية\n",
      "### العنوان: بن غليطة: 396 شركة معتمدة لدى التنظيم العقاري في دبي\n",
      "\n",
      "### المقالة:\n",
      "أكد المهندس مروان بن غليطة المدير التنفيذي لمؤسسة التنظيم العقاري بدبي أن استخدام العقوبات والغرامات المنصوص عليها في القانون ضد الشركات العقارية غير المسجلة بحسابات الضمان، أو تلك التي لم تحصل على ترخيص لممارسة النشاط العقاري، آخر ما تفكر فيه المؤسسة. وشدد على أن ''''التنظيم العقاري'''' لا تستخدم القانون سيفاً مسلطاً ضد الشركات بل هدفها العمل على خلق شراكات عمل واضحة ومرنة مع كل الشركات والفاعلين في قطاع التطوير العقاري من أجل تحقيق الهدف الاستراتيجي من إنشاء المؤسسة والرامي إلى تنظيم القطاع وايجاد قاعدة بيانات تساهم في تطوير وتعزيز هذا القطاع الحيوي.\n",
      "وأضاف مروان بن غليطة في تصريحات لـ ''''الاتحاد'''': أن إعلان المؤسسة عن قائمة الشركات المرخصة لها، لا يعني بالضرورة البدء في توقيع الغرامات المنصوص عليها في القانون ضد الشركات التي لم تلتزم بالمهلة الممنوحة لتوفيق أوضاع المطورين العقاريين، فالبرغم من حق الهيئة في فرض غرامات فانها تفتح أبوابها أمام الشركات التي لم تحصل على تراخيص وفقاً للقانون رقم 8 لسنة 2007 الخاص بحسابات ضمان التطوير العقاري، لتصحيح أوضاعها، ونعمل من جانبنا على توعية وتثقيف الشركات بأهمية الالتزام بالقانون ليعمل الجميع في ظل منظومة متكاملة، لافتاً إلى أن القانون منح المؤسسة حق فرض غرامات تصل إلى 100 ألف درهم على الشركات التي لم تقم بالتسجيل وتصحيح أوضاعها، إلا أن هذا النص لن تستخدمه المؤسسة، حتى تتيح المجال أمام الشركات الأخرى للدخول للمنظومة الجديدة.\n",
      "وأفاد المدير التنفيذي لمؤسسة التنظيم العقاري بدبي أن القائمة التي أصدرتها المؤسسة أمس الأول والتي تضم 396 شركة عقارية معتمدة للعمل وممارسة النشاط العقاري، ليس نهاية المطاق، فهذا الرقم قابل للزيادة في الأيام المقبلة، ونحن على ثقة بأن تقوم الشركات بتصحيح أوضاعها. وقال بن غليطة إن عام 2008 سيكون البداية للوصول إلى مرجعية واضحة للنشاط العقاري في إمارة دبي، خاصة أن السوق يعاني فعلاً من غياب بيانات حقيقية ومعلومات حول القطاع العقاري والشركات العاملة فيه، وهو ما نسعى لإيجاده من خلال المؤسسة كما سيكون عام 2008 خاليا من المطورين العقاريين غير المرخصين، لتصبح هناك ركيزة أساسية شاملة للسوق العقارية في دبي، منوهاً إلى أن العام الجاري سيشهد صدور اللوائح التنفيذية والتنظيمية للعديد من القوانين ذات الصلة بالنشاط العقاري، وبناء مركز معلومات حول القطاع.\n",
      "وأفاد: لا توجد أرقام نهائية حول الشركات التي تمارس نشاطاً عقارياً، وبالتالي فتسجيل 396 شركة لدى المؤسسة بنهاية المهلة التي انتهت في 27 ديسمبر الماضي، نعتبرها البداية، واللبنة الأولى لقاعدة بيانات حول السوق العقارية في دبي، وهذه الخطوة ستليها خطوات أخرى لتشكل في مجملها مرجع معلوماتي حول النشاط العقاري، سواء من حيث عدد الشركات والمشروعات التطويرية وحجم القطاع وكل ما يتعلق به. وحول الموقف من تعامل المستثمرين ومشتري العقارات مع الشركات غير المسجلة في المؤسسة وخارج قائمة الـ 396 شركة، أوضح مروان بن غليطة أن المسؤولية في التعامل مع مثل هذه الشركات تقع على عاتق المستثمر والمشتري نفسه، وعليه أن يتخذ القرار ويتحمل مسؤوليته كاملة، و''''الكرة الآن في ملعب'''' المستثمر، فأي تعامل مع شركة غير مرخصة من مؤسسة التنظيم العقاري، لن تكون لنا مسؤولية تجاهها، إذا ما حدث أي خلاف أو أخطاء بين المستثمر وتلك الشركة، ومن هنا فيجب على أي مستثمر أن يراجع المؤسسة للتعرف على سجل أعمال أي شركة قبل التعامل معها للتأكد من كونها مسجلة لدى المؤسسة أولاً، حتى يتخذ قراره اسستناداً لمعلومات وبيانات صحيحة، وحتى لا يقع ضحية لأية أخطاء، أو شركات مجهولة، مؤكداً أن مهمتنا المحافظة على حقوق جميع مكونات المنتج العقاري، والأفراد سواء كان مطوراً أو مستثمراً.t\n",
      "مقالة صحفية\n",
      "### العنوان: بن غليطة: 396 شركة معتمدة لدى التنظيم العقاري في دبي\n",
      "\n",
      "### المقالة:\n",
      "أكد المهندس مروان بن غليطة المدير التنفيذي لمؤسسة التنظيم العقاري بدبي أن استخدام العقوبات والغرامات المنصوص عليها في القانون ضد الشركات العقارية غير المسجلة بحسابات الضمان، أو تلك التي لم تحصل على ترخيص لممارسة النشاط العقاري، آخر ما تفكر فيه المؤسسة. وشدد على أن ''''التنظيم العقاري'''' لا تستخدم القانون سيفاً مسلطاً ضد الشركات بل هدفها العمل على خلق شراكات عمل واضحة ومرنة مع كل الشركات والفاعلين في قطاع التطوير العقاري من أجل تحقيق الهدف الاستراتيجي من إنشاء المؤسسة والرامي إلى تنظيم القطاع وايجاد قاعدة بيانات تساهم في تطوير وتعزيز هذا القطاع الحيوي.\n",
      "وأضاف مروان بن غليطة في تصريحات لـ ''''الاتحاد'''': أن إعلان المؤسسة عن قائمة الشركات المرخصة لها، لا يعني بالضرورة البدء في توقيع الغرامات المنصوص عليها في القانون ضد الشركات التي لم تلتزم بالمهلة الممنوحة لتوفيق أوضاع المطورين العقاريين، فالبرغم من حق الهيئة في فرض غرامات فانها تفتح أبوابها أمام الشركات التي لم تحصل على تراخيص وفقاً للقانون رقم 8 لسنة 2007 الخاص بحسابات ضمان التطوير العقاري، لتصحيح أوضاعها، ونعمل من جانبنا على توعية وتثقيف الشركات بأهمية الالتزام بالقانون ليعمل الجميع في ظل منظومة متكاملة، لافتاً إلى أن القانون منح المؤسسة حق فرض غرامات تصل إلى 100 ألف درهم على الشركات التي لم تقم بالتسجيل وتصحيح أوضاعها، إلا أن هذا النص لن تستخدمه المؤسسة، حتى تتيح المجال أمام الشركات الأخرى للدخول للمنظومة الجديدة.\n",
      "وأفاد المدير التنفيذي لمؤسسة التنظيم العقاري بدبي أن القائمة التي أصدرتها المؤسسة أمس الأول والتي تضم 396 شركة عقارية معتمدة للعمل وممارسة النشاط العقاري، ليس نهاية المطاق، فهذا الرقم قابل للزيادة في الأيام المقبلة، ونحن على ثقة بأن تقوم الشركات بتصحيح أوضاعها. وقال بن غليطة إن عام 2008 سيكون البداية للوصول إلى مرجعية واضحة للنشاط العقاري في إمارة دبي، خاصة أن السوق يعاني فعلاً من غياب بيانات حقيقية ومعلومات حول القطاع العقاري والشركات العاملة فيه، وهو ما نسعى لإيجاده من خلال المؤسسة كما سيكون عام 2008 خاليا من المطورين العقاريين غير المرخصين، لتصبح هناك ركيزة أساسية شاملة للسوق العقارية في دبي، منوهاً إلى أن العام الجاري سيشهد صدور اللوائح التنفيذية والتنظيمية للعديد من القوانين ذات الصلة بالنشاط العقاري، وبناء مركز معلومات حول القطاع.\n",
      "وأفاد: لا توجد أرقام نهائية حول الشركات التي تمارس نشاطاً عقارياً، وبالتالي فتسجيل 396 شركة لدى المؤسسة بنهاية المهلة التي انتهت في 27 ديسمبر الماضي، نعتبرها البداية، واللبنة الأولى لقاعدة بيانات حول السوق العقارية في دبي، وهذه الخطوة ستليها خطوات أخرى لتشكل في مجملها مرجع معلوماتي حول النشاط العقاري، سواء من حيث عدد الشركات والمشروعات التطويرية وحجم القطاع وكل ما يتعلق به. وحول الموقف من تعامل المستثمرين ومشتري العقارات مع الشركات غير المسجلة في المؤسسة وخارج قائمة الـ 396 شركة، أوضح مروان بن غليطة أن المسؤولية في التعامل مع مثل هذه الشركات تقع على عاتق المستثمر والمشتري نفسه، وعليه أن يتخذ القرار ويتحمل مسؤوليته كاملة، و''''الكرة الآن في ملعب'''' المستثمر، فأي تعامل مع شركة غير مرخصة من مؤسسة التنظيم العقاري، لن تكون لنا مسؤولية تجاهها، إذا ما حدث أي خلاف أو أخطاء بين المستثمر وتلك الشركة، ومن هنا فيجب على أي مستثمر أن يراجع المؤسسة للتعرف على سجل أعمال أي شركة قبل التعامل معها للتأكد من كونها مسجلة لدى المؤسسة أولاً، حتى يتخذ قراره اسستناداً لمعلومات وبيانات صحيحة، وحتى لا يقع ضحية لأية أخطاء، أو شركات مجهولة، مؤكداً أن مهمتنا المحافظة على حقوق جميع مكونات المنتج العقاري، والأفراد سواء كان مطوراً أو مستثمراً.t\n"
     ]
    }
   ]
  },
  {
   "cell_type": "code",
   "source": [
    "print(sample_text)"
   ],
   "metadata": {
    "colab": {
     "base_uri": "https://localhost:8080/"
    },
    "id": "umTTu1t9g7wZ",
    "outputId": "a2bda041-e22c-416d-9272-c29c99b2cacd"
   },
   "execution_count": 11,
   "outputs": [
    {
     "output_type": "stream",
     "name": "stdout",
     "text": [
      "مقالة صحفية\n",
      "### العنوان: بن غليطة: 396 شركة معتمدة لدى التنظيم العقاري في دبي\n",
      "\n",
      "### المقالة:\n",
      "أكد المهندس مروان بن غليطة المدير التنفيذي لمؤسسة التنظيم العقاري بدبي أن استخدام العقوبات والغرامات المنصوص عليها في القانون ضد الشركات العقارية غير المسجلة بحسابات الضمان، أو تلك التي لم تحصل على ترخيص لممارسة النشاط العقاري، آخر ما تفكر فيه المؤسسة. وشدد على أن ''''التنظيم العقاري'''' لا تستخدم القانون سيفاً مسلطاً ضد الشركات بل هدفها العمل على خلق شراكات عمل واضحة ومرنة مع كل الشركات والفاعلين في قطاع التطوير العقاري من أجل تحقيق الهدف الاستراتيجي من إنشاء المؤسسة والرامي إلى تنظيم القطاع وايجاد قاعدة بيانات تساهم في تطوير وتعزيز هذا القطاع الحيوي.\n",
      "وأضاف مروان بن غليطة في تصريحات لـ ''''الاتحاد'''': أن إعلان المؤسسة عن قائمة الشركات المرخصة لها، لا يعني بالضرورة البدء في توقيع الغرامات المنصوص عليها في القانون ضد الشركات التي لم تلتزم بالمهلة الممنوحة لتوفيق أوضاع المطورين العقاريين، فالبرغم من حق الهيئة في فرض غرامات فانها تفتح أبوابها أمام الشركات التي لم تحصل على تراخيص وفقاً للقانون رقم 8 لسنة 2007 الخاص بحسابات ضمان التطوير العقاري، لتصحيح أوضاعها، ونعمل من جانبنا على توعية وتثقيف الشركات بأهمية الالتزام بالقانون ليعمل الجميع في ظل منظومة متكاملة، لافتاً إلى أن القانون منح المؤسسة حق فرض غرامات تصل إلى 100 ألف درهم على الشركات التي لم تقم بالتسجيل وتصحيح أوضاعها، إلا أن هذا النص لن تستخدمه المؤسسة، حتى تتيح المجال أمام الشركات الأخرى للدخول للمنظومة الجديدة.\n",
      "وأفاد المدير التنفيذي لمؤسسة التنظيم العقاري بدبي أن القائمة التي أصدرتها المؤسسة أمس الأول والتي تضم 396 شركة عقارية معتمدة للعمل وممارسة النشاط العقاري، ليس نهاية المطاق، فهذا الرقم قابل للزيادة في الأيام المقبلة، ونحن على ثقة بأن تقوم الشركات بتصحيح أوضاعها. وقال بن غليطة إن عام 2008 سيكون البداية للوصول إلى مرجعية واضحة للنشاط العقاري في إمارة دبي، خاصة أن السوق يعاني فعلاً من غياب بيانات حقيقية ومعلومات حول القطاع العقاري والشركات العاملة فيه، وهو ما نسعى لإيجاده من خلال المؤسسة كما سيكون عام 2008 خاليا من المطورين العقاريين غير المرخصين، لتصبح هناك ركيزة أساسية شاملة للسوق العقارية في دبي، منوهاً إلى أن العام الجاري سيشهد صدور اللوائح التنفيذية والتنظيمية للعديد من القوانين ذات الصلة بالنشاط العقاري، وبناء مركز معلومات حول القطاع.\n",
      "وأفاد: لا توجد أرقام نهائية حول الشركات التي تمارس نشاطاً عقارياً، وبالتالي فتسجيل 396 شركة لدى المؤسسة بنهاية المهلة التي انتهت في 27 ديسمبر الماضي، نعتبرها البداية، واللبنة الأولى لقاعدة بيانات حول السوق العقارية في دبي، وهذه الخطوة ستليها خطوات أخرى لتشكل في مجملها مرجع معلوماتي حول النشاط العقاري، سواء من حيث عدد الشركات والمشروعات التطويرية وحجم القطاع وكل ما يتعلق به. وحول الموقف من تعامل المستثمرين ومشتري العقارات مع الشركات غير المسجلة في المؤسسة وخارج قائمة الـ 396 شركة، أوضح مروان بن غليطة أن المسؤولية في التعامل مع مثل هذه الشركات تقع على عاتق المستثمر والمشتري نفسه، وعليه أن يتخذ القرار ويتحمل مسؤوليته كاملة، و''''الكرة الآن في ملعب'''' المستثمر، فأي تعامل مع شركة غير مرخصة من مؤسسة التنظيم العقاري، لن تكون لنا مسؤولية تجاهها، إذا ما حدث أي خلاف أو أخطاء بين المستثمر وتلك الشركة، ومن هنا فيجب على أي مستثمر أن يراجع المؤسسة للتعرف على سجل أعمال أي شركة قبل التعامل معها للتأكد من كونها مسجلة لدى المؤسسة أولاً، حتى يتخذ قراره اسستناداً لمعلومات وبيانات صحيحة، وحتى لا يقع ضحية لأية أخطاء، أو شركات مجهولة، مؤكداً أن مهمتنا المحافظة على حقوق جميع مكونات المنتج العقاري، والأفراد سواء كان مطوراً أو مستثمراً.t\n"
     ]
    }
   ]
  },
  {
   "cell_type": "code",
   "source": [],
   "metadata": {
    "id": "5l260GYNiEwC"
   },
   "execution_count": null,
   "outputs": []
  }
 ]
}
